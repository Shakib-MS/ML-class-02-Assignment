{
 "cells": [
  {
   "cell_type": "markdown",
   "id": "2806a537",
   "metadata": {},
   "source": [
    "# BASIC PYTHON"
   ]
  },
  {
   "cell_type": "code",
   "execution_count": 1,
   "id": "57696445",
   "metadata": {},
   "outputs": [
    {
     "name": "stdout",
     "output_type": "stream",
     "text": [
      "hello world\n"
     ]
    }
   ],
   "source": [
    "print(\"hello world\")         "
   ]
  },
  {
   "cell_type": "code",
   "execution_count": 2,
   "id": "0e0ac7a9",
   "metadata": {},
   "outputs": [
    {
     "name": "stdout",
     "output_type": "stream",
     "text": [
      "100\n"
     ]
    }
   ],
   "source": [
    "print(100)"
   ]
  },
  {
   "cell_type": "code",
   "execution_count": 3,
   "id": "41f43a7c",
   "metadata": {},
   "outputs": [
    {
     "data": {
      "text/plain": [
       "int"
      ]
     },
     "execution_count": 3,
     "metadata": {},
     "output_type": "execute_result"
    }
   ],
   "source": [
    "type(100)"
   ]
  },
  {
   "cell_type": "code",
   "execution_count": 4,
   "id": "c92cc75e",
   "metadata": {},
   "outputs": [
    {
     "name": "stdout",
     "output_type": "stream",
     "text": [
      "Hello World\n"
     ]
    }
   ],
   "source": [
    "print(\"Hello World\")"
   ]
  },
  {
   "cell_type": "code",
   "execution_count": 5,
   "id": "2410c1b7",
   "metadata": {},
   "outputs": [
    {
     "name": "stdout",
     "output_type": "stream",
     "text": [
      "Hello World\n",
      "Hello World\n"
     ]
    }
   ],
   "source": [
    "print(\"Hello World\")\n",
    "print(\"Hello World\")"
   ]
  },
  {
   "cell_type": "code",
   "execution_count": 6,
   "id": "8fbe2435",
   "metadata": {},
   "outputs": [
    {
     "name": "stdout",
     "output_type": "stream",
     "text": [
      "Hello World $ Hello World.Hello World\n"
     ]
    }
   ],
   "source": [
    "print(\"Hello World\",\"Hello World\",sep=' $ ',end='.')\n",
    "print(\"Hello World\")"
   ]
  },
  {
   "cell_type": "code",
   "execution_count": 7,
   "id": "5d98bd6b",
   "metadata": {},
   "outputs": [],
   "source": [
    "x=1000"
   ]
  },
  {
   "cell_type": "code",
   "execution_count": 8,
   "id": "36e14934",
   "metadata": {},
   "outputs": [
    {
     "name": "stdout",
     "output_type": "stream",
     "text": [
      "1000\n"
     ]
    }
   ],
   "source": [
    "print(x)"
   ]
  },
  {
   "cell_type": "markdown",
   "id": "75565324",
   "metadata": {},
   "source": [
    "# varribles"
   ]
  },
  {
   "cell_type": "code",
   "execution_count": 9,
   "id": "2b8dd640",
   "metadata": {},
   "outputs": [],
   "source": [
    "var=100"
   ]
  },
  {
   "cell_type": "code",
   "execution_count": 10,
   "id": "1ebf7c26",
   "metadata": {},
   "outputs": [
    {
     "data": {
      "text/plain": [
       "100"
      ]
     },
     "execution_count": 10,
     "metadata": {},
     "output_type": "execute_result"
    }
   ],
   "source": [
    "var"
   ]
  },
  {
   "cell_type": "code",
   "execution_count": 11,
   "id": "8caa531e",
   "metadata": {},
   "outputs": [
    {
     "data": {
      "text/plain": [
       "1000"
      ]
     },
     "execution_count": 11,
     "metadata": {},
     "output_type": "execute_result"
    }
   ],
   "source": [
    "x"
   ]
  },
  {
   "cell_type": "code",
   "execution_count": 12,
   "id": "cfddca63",
   "metadata": {},
   "outputs": [
    {
     "data": {
      "text/plain": [
       "1100"
      ]
     },
     "execution_count": 12,
     "metadata": {},
     "output_type": "execute_result"
    }
   ],
   "source": [
    "var+x"
   ]
  },
  {
   "cell_type": "code",
   "execution_count": 13,
   "id": "46a8d702",
   "metadata": {},
   "outputs": [
    {
     "data": {
      "text/plain": [
       "1100"
      ]
     },
     "execution_count": 13,
     "metadata": {},
     "output_type": "execute_result"
    }
   ],
   "source": [
    "var=var+x\n",
    "var"
   ]
  },
  {
   "cell_type": "code",
   "execution_count": 14,
   "id": "c4459e59",
   "metadata": {},
   "outputs": [
    {
     "data": {
      "text/plain": [
       "2100"
      ]
     },
     "execution_count": 14,
     "metadata": {},
     "output_type": "execute_result"
    }
   ],
   "source": [
    "var=var+x\n",
    "var"
   ]
  },
  {
   "cell_type": "code",
   "execution_count": 15,
   "id": "2bad7535",
   "metadata": {},
   "outputs": [
    {
     "data": {
      "text/plain": [
       "3100"
      ]
     },
     "execution_count": 15,
     "metadata": {},
     "output_type": "execute_result"
    }
   ],
   "source": [
    "var=var+x\n",
    "var"
   ]
  },
  {
   "cell_type": "code",
   "execution_count": 16,
   "id": "5580a727",
   "metadata": {},
   "outputs": [
    {
     "data": {
      "text/plain": [
       "4100"
      ]
     },
     "execution_count": 16,
     "metadata": {},
     "output_type": "execute_result"
    }
   ],
   "source": [
    "var=var+x\n",
    "var"
   ]
  },
  {
   "cell_type": "code",
   "execution_count": 17,
   "id": "7d43462e",
   "metadata": {},
   "outputs": [
    {
     "data": {
      "text/plain": [
       "2444312497488"
      ]
     },
     "execution_count": 17,
     "metadata": {},
     "output_type": "execute_result"
    }
   ],
   "source": [
    "id(var)"
   ]
  },
  {
   "cell_type": "code",
   "execution_count": 18,
   "id": "aadd3d05",
   "metadata": {},
   "outputs": [],
   "source": [
    "name=\"shakib\""
   ]
  },
  {
   "cell_type": "code",
   "execution_count": 19,
   "id": "aec460c2",
   "metadata": {},
   "outputs": [
    {
     "data": {
      "text/plain": [
       "'shakib'"
      ]
     },
     "execution_count": 19,
     "metadata": {},
     "output_type": "execute_result"
    }
   ],
   "source": [
    "name"
   ]
  },
  {
   "cell_type": "code",
   "execution_count": 20,
   "id": "0ec7eb00",
   "metadata": {},
   "outputs": [],
   "source": [
    "for_=name"
   ]
  },
  {
   "cell_type": "code",
   "execution_count": 21,
   "id": "05517303",
   "metadata": {},
   "outputs": [
    {
     "data": {
      "text/plain": [
       "'shakib'"
      ]
     },
     "execution_count": 21,
     "metadata": {},
     "output_type": "execute_result"
    }
   ],
   "source": [
    "for_"
   ]
  },
  {
   "cell_type": "code",
   "execution_count": 22,
   "id": "96fb92fa",
   "metadata": {},
   "outputs": [
    {
     "data": {
      "text/plain": [
       "100"
      ]
     },
     "execution_count": 22,
     "metadata": {},
     "output_type": "execute_result"
    }
   ],
   "source": [
    "while_=100\n",
    "while_"
   ]
  },
  {
   "cell_type": "code",
   "execution_count": 23,
   "id": "c63321fd",
   "metadata": {},
   "outputs": [],
   "source": [
    "_var=1000"
   ]
  },
  {
   "cell_type": "code",
   "execution_count": 24,
   "id": "3fdf5a3d",
   "metadata": {},
   "outputs": [
    {
     "data": {
      "text/plain": [
       "1000"
      ]
     },
     "execution_count": 24,
     "metadata": {},
     "output_type": "execute_result"
    }
   ],
   "source": [
    "_var"
   ]
  },
  {
   "cell_type": "code",
   "execution_count": 25,
   "id": "1b1105ab",
   "metadata": {},
   "outputs": [],
   "source": [
    "my_name='shakib'"
   ]
  },
  {
   "cell_type": "code",
   "execution_count": 26,
   "id": "b8b0cf05",
   "metadata": {},
   "outputs": [
    {
     "data": {
      "text/plain": [
       "'shakib'"
      ]
     },
     "execution_count": 26,
     "metadata": {},
     "output_type": "execute_result"
    }
   ],
   "source": [
    "my_name"
   ]
  },
  {
   "cell_type": "code",
   "execution_count": 27,
   "id": "83ba48cc",
   "metadata": {},
   "outputs": [],
   "source": [
    "my_name_is='shakib'"
   ]
  },
  {
   "cell_type": "code",
   "execution_count": 28,
   "id": "133ed0ab",
   "metadata": {},
   "outputs": [
    {
     "data": {
      "text/plain": [
       "'shakib'"
      ]
     },
     "execution_count": 28,
     "metadata": {},
     "output_type": "execute_result"
    }
   ],
   "source": [
    "my_name_is"
   ]
  },
  {
   "cell_type": "code",
   "execution_count": 29,
   "id": "a21eccee",
   "metadata": {},
   "outputs": [],
   "source": [
    "a,b,c=100,200,300"
   ]
  },
  {
   "cell_type": "code",
   "execution_count": 30,
   "id": "65fadc01",
   "metadata": {},
   "outputs": [
    {
     "data": {
      "text/plain": [
       "100"
      ]
     },
     "execution_count": 30,
     "metadata": {},
     "output_type": "execute_result"
    }
   ],
   "source": [
    "a"
   ]
  },
  {
   "cell_type": "code",
   "execution_count": 31,
   "id": "d30192de",
   "metadata": {},
   "outputs": [
    {
     "data": {
      "text/plain": [
       "300"
      ]
     },
     "execution_count": 31,
     "metadata": {},
     "output_type": "execute_result"
    }
   ],
   "source": [
    "c"
   ]
  },
  {
   "cell_type": "code",
   "execution_count": 32,
   "id": "2305a48c",
   "metadata": {},
   "outputs": [
    {
     "data": {
      "text/plain": [
       "200"
      ]
     },
     "execution_count": 32,
     "metadata": {},
     "output_type": "execute_result"
    }
   ],
   "source": [
    "b"
   ]
  },
  {
   "cell_type": "code",
   "execution_count": 33,
   "id": "3aa6eaa6",
   "metadata": {},
   "outputs": [
    {
     "data": {
      "text/plain": [
       "600"
      ]
     },
     "execution_count": 33,
     "metadata": {},
     "output_type": "execute_result"
    }
   ],
   "source": [
    "a+b+c"
   ]
  },
  {
   "cell_type": "code",
   "execution_count": 34,
   "id": "f91bb95c",
   "metadata": {},
   "outputs": [
    {
     "data": {
      "text/plain": [
       "-100"
      ]
     },
     "execution_count": 34,
     "metadata": {},
     "output_type": "execute_result"
    }
   ],
   "source": [
    "b-c"
   ]
  },
  {
   "cell_type": "code",
   "execution_count": 35,
   "id": "bca71193",
   "metadata": {},
   "outputs": [
    {
     "data": {
      "text/plain": [
       "\"'Type:        int\\nString form: 300\\nDocstring:  \\nint([x]) -> integer\""
      ]
     },
     "execution_count": 35,
     "metadata": {},
     "output_type": "execute_result"
    }
   ],
   "source": [
    "''''Type:        int\n",
    "String form: 300\n",
    "Docstring:  \n",
    "int([x]) -> integer'''"
   ]
  },
  {
   "cell_type": "markdown",
   "id": "1e2bebc4",
   "metadata": {},
   "source": [
    "# Gobal&local"
   ]
  },
  {
   "cell_type": "code",
   "execution_count": 36,
   "id": "a0dfbc26",
   "metadata": {},
   "outputs": [
    {
     "name": "stdout",
     "output_type": "stream",
     "text": [
      "100\n"
     ]
    }
   ],
   "source": [
    "x=100\n",
    "\n",
    "def myfuntion():\n",
    "    print(x)\n",
    "    \n",
    "myfuntion()"
   ]
  },
  {
   "cell_type": "code",
   "execution_count": 37,
   "id": "daf1f1a3",
   "metadata": {},
   "outputs": [
    {
     "name": "stdout",
     "output_type": "stream",
     "text": [
      "this is 1; 100\n",
      "it is 2: 100\n"
     ]
    }
   ],
   "source": [
    "x=100\n",
    "\n",
    "def myfuntion():\n",
    "    print('this is 1;' ,x)\n",
    "    \n",
    "myfuntion()\n",
    "\n",
    "print('it is 2:', x)"
   ]
  },
  {
   "cell_type": "code",
   "execution_count": 38,
   "id": "e7aa220f",
   "metadata": {},
   "outputs": [
    {
     "name": "stdout",
     "output_type": "stream",
     "text": [
      "1000\n"
     ]
    }
   ],
   "source": [
    "def myfuntion():\n",
    "    var10=1000\n",
    "    print(var10)\n",
    "    \n",
    "myfuntion()"
   ]
  },
  {
   "cell_type": "code",
   "execution_count": 39,
   "id": "f1e0c69d",
   "metadata": {},
   "outputs": [],
   "source": [
    "data='I love data science'"
   ]
  },
  {
   "cell_type": "code",
   "execution_count": 40,
   "id": "57695d1e",
   "metadata": {},
   "outputs": [
    {
     "data": {
      "text/plain": [
       "'I love data science'"
      ]
     },
     "execution_count": 40,
     "metadata": {},
     "output_type": "execute_result"
    }
   ],
   "source": [
    "data"
   ]
  },
  {
   "cell_type": "code",
   "execution_count": 41,
   "id": "77ddb81a",
   "metadata": {},
   "outputs": [
    {
     "data": {
      "text/plain": [
       "['I', 'love', 'data', 'science']"
      ]
     },
     "execution_count": 41,
     "metadata": {},
     "output_type": "execute_result"
    }
   ],
   "source": [
    "data.split()"
   ]
  },
  {
   "cell_type": "code",
   "execution_count": 42,
   "id": "ac67b936",
   "metadata": {},
   "outputs": [
    {
     "data": {
      "text/plain": [
       "'I LOVE DATA SCIENCE'"
      ]
     },
     "execution_count": 42,
     "metadata": {},
     "output_type": "execute_result"
    }
   ],
   "source": [
    "data.upper()"
   ]
  },
  {
   "cell_type": "code",
   "execution_count": 43,
   "id": "2a982362",
   "metadata": {},
   "outputs": [
    {
     "ename": "ImportError",
     "evalue": "cannot import name 'image' from 'IPython.display' (C:\\Users\\SHAKIB AHMED\\anaconda3\\lib\\site-packages\\IPython\\display.py)",
     "output_type": "error",
     "traceback": [
      "\u001b[1;31m---------------------------------------------------------------------------\u001b[0m",
      "\u001b[1;31mImportError\u001b[0m                               Traceback (most recent call last)",
      "Input \u001b[1;32mIn [43]\u001b[0m, in \u001b[0;36m<cell line: 1>\u001b[1;34m()\u001b[0m\n\u001b[1;32m----> 1\u001b[0m \u001b[38;5;28;01mfrom\u001b[39;00m \u001b[38;5;21;01mIPython\u001b[39;00m\u001b[38;5;21;01m.\u001b[39;00m\u001b[38;5;21;01mdisplay\u001b[39;00m \u001b[38;5;28;01mimport\u001b[39;00m image\n\u001b[0;32m      2\u001b[0m image(\u001b[38;5;124m'\u001b[39m\u001b[38;5;124mimage.jp\u001b[39m\u001b[38;5;124m'\u001b[39m)\n",
      "\u001b[1;31mImportError\u001b[0m: cannot import name 'image' from 'IPython.display' (C:\\Users\\SHAKIB AHMED\\anaconda3\\lib\\site-packages\\IPython\\display.py)"
     ]
    }
   ],
   "source": [
    "from IPython.display import image\n",
    "image('image.jp')"
   ]
  },
  {
   "cell_type": "code",
   "execution_count": null,
   "id": "cb42aaa3",
   "metadata": {},
   "outputs": [],
   "source": []
  }
 ],
 "metadata": {
  "kernelspec": {
   "display_name": "Python 3 (ipykernel)",
   "language": "python",
   "name": "python3"
  },
  "language_info": {
   "codemirror_mode": {
    "name": "ipython",
    "version": 3
   },
   "file_extension": ".py",
   "mimetype": "text/x-python",
   "name": "python",
   "nbconvert_exporter": "python",
   "pygments_lexer": "ipython3",
   "version": "3.9.12"
  }
 },
 "nbformat": 4,
 "nbformat_minor": 5
}
